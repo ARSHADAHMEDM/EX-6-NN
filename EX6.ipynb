{
  "cells": [
    {
      "cell_type": "code",
      "execution_count": null,
      "id": "1e594b34",
      "metadata": {
        "id": "1e594b34"
      },
      "outputs": [],
      "source": [
        "import numpy as np\n",
        "import pandas as pd\n",
        "from sklearn.neural_network import MLPClassifier\n",
        "from sklearn.model_selection import train_test_split\n",
        "from sklearn.preprocessing import StandardScaler\n",
        "from sklearn.metrics import accuracy_score,classification_report,confusion_matrix\n",
        "import matplotlib.pyplot as plt"
      ]
    },
    {
      "cell_type": "code",
      "execution_count": null,
      "id": "71e17a2b",
      "metadata": {
        "id": "71e17a2b"
      },
      "outputs": [],
      "source": [
        "data = pd.read_csv('heart.csv')"
      ]
    },
    {
      "cell_type": "code",
      "execution_count": null,
      "id": "73399595",
      "metadata": {
        "id": "73399595"
      },
      "outputs": [],
      "source": [
        "X = data.iloc[:, :-1].values  # Features\n",
        "y = data.iloc[:, -1].values   # Labels"
      ]
    },
    {
      "cell_type": "code",
      "execution_count": null,
      "id": "9fe7df46",
      "metadata": {
        "id": "9fe7df46"
      },
      "outputs": [],
      "source": [
        "X_train, X_test, y_train, y_test = train_test_split(X, y, test_size=0.2, random_state=42)"
      ]
    },
    {
      "cell_type": "code",
      "execution_count": null,
      "id": "35aee4cd",
      "metadata": {
        "id": "35aee4cd"
      },
      "outputs": [],
      "source": [
        "scaler = StandardScaler()\n",
        "X_train = scaler.fit_transform(X_train)\n",
        "X_test = scaler.transform(X_test)"
      ]
    },
    {
      "cell_type": "code",
      "execution_count": null,
      "id": "37ec21b8",
      "metadata": {
        "id": "37ec21b8"
      },
      "outputs": [],
      "source": [
        "mlp = MLPClassifier(hidden_layer_sizes=(100, 100), max_iter=1000, random_state=42)\n",
        "training_loss = mlp.fit(X_train, y_train).loss_curve_"
      ]
    },
    {
      "cell_type": "code",
      "execution_count": null,
      "id": "6bd635a4",
      "metadata": {
        "id": "6bd635a4"
      },
      "outputs": [],
      "source": [
        "y_pred = mlp.predict(X_test)"
      ]
    },
    {
      "cell_type": "code",
      "execution_count": null,
      "id": "976c4a56",
      "metadata": {
        "colab": {
          "base_uri": "https://localhost:8080/"
        },
        "id": "976c4a56",
        "outputId": "8e533c61-dfb3-479a-d269-9d8516fb53f6"
      },
      "outputs": [
        {
          "output_type": "stream",
          "name": "stdout",
          "text": [
            "Accuracy: 0.9853658536585366\n"
          ]
        }
      ],
      "source": [
        "accuracy = accuracy_score(y_test, y_pred)\n",
        "print(\"Accuracy:\", accuracy)"
      ]
    },
    {
      "cell_type": "code",
      "execution_count": null,
      "id": "7fbc5a75",
      "metadata": {
        "colab": {
          "base_uri": "https://localhost:8080/",
          "height": 472
        },
        "id": "7fbc5a75",
        "outputId": "604685c3-2e3c-462e-d4a4-1eec43faebd9"
      },
      "outputs": [
        {
          "output_type": "display_data",
          "data": {
            "text/plain": [
              "<Figure size 640x480 with 1 Axes>"
            ],
            "image/png": "[encoded data removed]"
          },
          "metadata": {}
        }
      ],
      "source": [
        "plt.plot(training_loss)\n",
        "plt.title(\"MLP Training Loss Convergence\")\n",
        "plt.xlabel(\"Iteration\")\n",
        "plt.ylabel(\"Loss Values\")\n",
        "plt.show()"
      ]
    },
    {
      "cell_type": "code",
      "execution_count": null,
      "id": "95bb5a03",
      "metadata": {
        "id": "95bb5a03"
      },
      "outputs": [],
      "source": [
        "conf_matrix=confusion_matrix(y_test,y_pred)\n",
        "classification_rep=classification_report(y_test,y_pred)"
      ]
    },
    {
      "cell_type": "code",
      "execution_count": null,
      "id": "ac4edf03",
      "metadata": {
        "colab": {
          "base_uri": "https://localhost:8080/"
        },
        "id": "ac4edf03",
        "outputId": "18d0316d-e0a1-43b2-d493-b3e436f9dc06"
      },
      "outputs": [
        {
          "output_type": "stream",
          "name": "stdout",
          "text": [
            "Confusion Matrix\n",
            "[[102   0]\n",
            " [  3 100]]\n"
          ]
        }
      ],
      "source": [
        "print(\"Confusion Matrix\")\n",
        "print(conf_matrix)"
      ]
    },
    {
      "cell_type": "code",
      "execution_count": null,
      "id": "24763b9e",
      "metadata": {
        "colab": {
          "base_uri": "https://localhost:8080/"
        },
        "id": "24763b9e",
        "outputId": "1239365c-bccc-4f9e-d3e4-b338adac09bd"
      },
      "outputs": [
        {
          "output_type": "stream",
          "name": "stdout",
          "text": [
            "Classification Report\n",
            "              precision    recall  f1-score   support\n",
            "\n",
            "           0       0.97      1.00      0.99       102\n",
            "           1       1.00      0.97      0.99       103\n",
            "\n",
            "    accuracy                           0.99       205\n",
            "   macro avg       0.99      0.99      0.99       205\n",
            "weighted avg       0.99      0.99      0.99       205\n",
            "\n"
          ]
        }
      ],
      "source": [
        "print(\"Classification Report\")\n",
        "print(classification_rep)"
      ]
    }
  ],
  "metadata": {
    "kernelspec": {
      "display_name": "Python 3 (ipykernel)",
      "language": "python",
      "name": "python3"
    },
    "language_info": {
      "codemirror_mode": {
        "name": "ipython",
        "version": 3
      },
      "file_extension": ".py",
      "mimetype": "text/x-python",
      "name": "python",
      "nbconvert_exporter": "python",
      "pygments_lexer": "ipython3",
      "version": "3.11.5"
    },
    "colab": {
      "provenance": []
    }
  },
  "nbformat": 4,
  "nbformat_minor": 5
}